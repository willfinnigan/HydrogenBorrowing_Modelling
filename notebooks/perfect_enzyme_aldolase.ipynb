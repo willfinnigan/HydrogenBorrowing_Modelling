{
 "cells": [
  {
   "cell_type": "code",
   "execution_count": 1,
   "id": "0a52b97c-77ab-4427-9a5b-c1b369039894",
   "metadata": {},
   "outputs": [
    {
     "name": "stdout",
     "output_type": "stream",
     "text": [
      "1.4.3\n"
     ]
    },
    {
     "data": {
      "text/html": [
       "\n",
       "    <div class=\"bk-root\">\n",
       "        <a href=\"https://bokeh.org\" target=\"_blank\" class=\"bk-logo bk-logo-small bk-logo-notebook\"></a>\n",
       "        <span id=\"1002\">Loading BokehJS ...</span>\n",
       "    </div>"
      ]
     },
     "metadata": {},
     "output_type": "display_data"
    },
    {
     "data": {
      "application/javascript": [
       "\n",
       "(function(root) {\n",
       "  function now() {\n",
       "    return new Date();\n",
       "  }\n",
       "\n",
       "  const force = true;\n",
       "\n",
       "  if (typeof root._bokeh_onload_callbacks === \"undefined\" || force === true) {\n",
       "    root._bokeh_onload_callbacks = [];\n",
       "    root._bokeh_is_loading = undefined;\n",
       "  }\n",
       "\n",
       "  const JS_MIME_TYPE = 'application/javascript';\n",
       "  const HTML_MIME_TYPE = 'text/html';\n",
       "  const EXEC_MIME_TYPE = 'application/vnd.bokehjs_exec.v0+json';\n",
       "  const CLASS_NAME = 'output_bokeh rendered_html';\n",
       "\n",
       "  /**\n",
       "   * Render data to the DOM node\n",
       "   */\n",
       "  function render(props, node) {\n",
       "    const script = document.createElement(\"script\");\n",
       "    node.appendChild(script);\n",
       "  }\n",
       "\n",
       "  /**\n",
       "   * Handle when an output is cleared or removed\n",
       "   */\n",
       "  function handleClearOutput(event, handle) {\n",
       "    const cell = handle.cell;\n",
       "\n",
       "    const id = cell.output_area._bokeh_element_id;\n",
       "    const server_id = cell.output_area._bokeh_server_id;\n",
       "    // Clean up Bokeh references\n",
       "    if (id != null && id in Bokeh.index) {\n",
       "      Bokeh.index[id].model.document.clear();\n",
       "      delete Bokeh.index[id];\n",
       "    }\n",
       "\n",
       "    if (server_id !== undefined) {\n",
       "      // Clean up Bokeh references\n",
       "      const cmd_clean = \"from bokeh.io.state import curstate; print(curstate().uuid_to_server['\" + server_id + \"'].get_sessions()[0].document.roots[0]._id)\";\n",
       "      cell.notebook.kernel.execute(cmd_clean, {\n",
       "        iopub: {\n",
       "          output: function(msg) {\n",
       "            const id = msg.content.text.trim();\n",
       "            if (id in Bokeh.index) {\n",
       "              Bokeh.index[id].model.document.clear();\n",
       "              delete Bokeh.index[id];\n",
       "            }\n",
       "          }\n",
       "        }\n",
       "      });\n",
       "      // Destroy server and session\n",
       "      const cmd_destroy = \"import bokeh.io.notebook as ion; ion.destroy_server('\" + server_id + \"')\";\n",
       "      cell.notebook.kernel.execute(cmd_destroy);\n",
       "    }\n",
       "  }\n",
       "\n",
       "  /**\n",
       "   * Handle when a new output is added\n",
       "   */\n",
       "  function handleAddOutput(event, handle) {\n",
       "    const output_area = handle.output_area;\n",
       "    const output = handle.output;\n",
       "\n",
       "    // limit handleAddOutput to display_data with EXEC_MIME_TYPE content only\n",
       "    if ((output.output_type != \"display_data\") || (!Object.prototype.hasOwnProperty.call(output.data, EXEC_MIME_TYPE))) {\n",
       "      return\n",
       "    }\n",
       "\n",
       "    const toinsert = output_area.element.find(\".\" + CLASS_NAME.split(' ')[0]);\n",
       "\n",
       "    if (output.metadata[EXEC_MIME_TYPE][\"id\"] !== undefined) {\n",
       "      toinsert[toinsert.length - 1].firstChild.textContent = output.data[JS_MIME_TYPE];\n",
       "      // store reference to embed id on output_area\n",
       "      output_area._bokeh_element_id = output.metadata[EXEC_MIME_TYPE][\"id\"];\n",
       "    }\n",
       "    if (output.metadata[EXEC_MIME_TYPE][\"server_id\"] !== undefined) {\n",
       "      const bk_div = document.createElement(\"div\");\n",
       "      bk_div.innerHTML = output.data[HTML_MIME_TYPE];\n",
       "      const script_attrs = bk_div.children[0].attributes;\n",
       "      for (let i = 0; i < script_attrs.length; i++) {\n",
       "        toinsert[toinsert.length - 1].firstChild.setAttribute(script_attrs[i].name, script_attrs[i].value);\n",
       "        toinsert[toinsert.length - 1].firstChild.textContent = bk_div.children[0].textContent\n",
       "      }\n",
       "      // store reference to server id on output_area\n",
       "      output_area._bokeh_server_id = output.metadata[EXEC_MIME_TYPE][\"server_id\"];\n",
       "    }\n",
       "  }\n",
       "\n",
       "  function register_renderer(events, OutputArea) {\n",
       "\n",
       "    function append_mime(data, metadata, element) {\n",
       "      // create a DOM node to render to\n",
       "      const toinsert = this.create_output_subarea(\n",
       "        metadata,\n",
       "        CLASS_NAME,\n",
       "        EXEC_MIME_TYPE\n",
       "      );\n",
       "      this.keyboard_manager.register_events(toinsert);\n",
       "      // Render to node\n",
       "      const props = {data: data, metadata: metadata[EXEC_MIME_TYPE]};\n",
       "      render(props, toinsert[toinsert.length - 1]);\n",
       "      element.append(toinsert);\n",
       "      return toinsert\n",
       "    }\n",
       "\n",
       "    /* Handle when an output is cleared or removed */\n",
       "    events.on('clear_output.CodeCell', handleClearOutput);\n",
       "    events.on('delete.Cell', handleClearOutput);\n",
       "\n",
       "    /* Handle when a new output is added */\n",
       "    events.on('output_added.OutputArea', handleAddOutput);\n",
       "\n",
       "    /**\n",
       "     * Register the mime type and append_mime function with output_area\n",
       "     */\n",
       "    OutputArea.prototype.register_mime_type(EXEC_MIME_TYPE, append_mime, {\n",
       "      /* Is output safe? */\n",
       "      safe: true,\n",
       "      /* Index of renderer in `output_area.display_order` */\n",
       "      index: 0\n",
       "    });\n",
       "  }\n",
       "\n",
       "  // register the mime type if in Jupyter Notebook environment and previously unregistered\n",
       "  if (root.Jupyter !== undefined) {\n",
       "    const events = require('base/js/events');\n",
       "    const OutputArea = require('notebook/js/outputarea').OutputArea;\n",
       "\n",
       "    if (OutputArea.prototype.mime_types().indexOf(EXEC_MIME_TYPE) == -1) {\n",
       "      register_renderer(events, OutputArea);\n",
       "    }\n",
       "  }\n",
       "\n",
       "  \n",
       "  if (typeof (root._bokeh_timeout) === \"undefined\" || force === true) {\n",
       "    root._bokeh_timeout = Date.now() + 5000;\n",
       "    root._bokeh_failed_load = false;\n",
       "  }\n",
       "\n",
       "  const NB_LOAD_WARNING = {'data': {'text/html':\n",
       "     \"<div style='background-color: #fdd'>\\n\"+\n",
       "     \"<p>\\n\"+\n",
       "     \"BokehJS does not appear to have successfully loaded. If loading BokehJS from CDN, this \\n\"+\n",
       "     \"may be due to a slow or bad network connection. Possible fixes:\\n\"+\n",
       "     \"</p>\\n\"+\n",
       "     \"<ul>\\n\"+\n",
       "     \"<li>re-rerun `output_notebook()` to attempt to load from CDN again, or</li>\\n\"+\n",
       "     \"<li>use INLINE resources instead, as so:</li>\\n\"+\n",
       "     \"</ul>\\n\"+\n",
       "     \"<code>\\n\"+\n",
       "     \"from bokeh.resources import INLINE\\n\"+\n",
       "     \"output_notebook(resources=INLINE)\\n\"+\n",
       "     \"</code>\\n\"+\n",
       "     \"</div>\"}};\n",
       "\n",
       "  function display_loaded() {\n",
       "    const el = document.getElementById(\"1002\");\n",
       "    if (el != null) {\n",
       "      el.textContent = \"BokehJS is loading...\";\n",
       "    }\n",
       "    if (root.Bokeh !== undefined) {\n",
       "      if (el != null) {\n",
       "        el.textContent = \"BokehJS \" + root.Bokeh.version + \" successfully loaded.\";\n",
       "      }\n",
       "    } else if (Date.now() < root._bokeh_timeout) {\n",
       "      setTimeout(display_loaded, 100)\n",
       "    }\n",
       "  }\n",
       "\n",
       "\n",
       "  function run_callbacks() {\n",
       "    try {\n",
       "      root._bokeh_onload_callbacks.forEach(function(callback) {\n",
       "        if (callback != null)\n",
       "          callback();\n",
       "      });\n",
       "    } finally {\n",
       "      delete root._bokeh_onload_callbacks\n",
       "    }\n",
       "    console.debug(\"Bokeh: all callbacks have finished\");\n",
       "  }\n",
       "\n",
       "  function load_libs(css_urls, js_urls, callback) {\n",
       "    if (css_urls == null) css_urls = [];\n",
       "    if (js_urls == null) js_urls = [];\n",
       "\n",
       "    root._bokeh_onload_callbacks.push(callback);\n",
       "    if (root._bokeh_is_loading > 0) {\n",
       "      console.debug(\"Bokeh: BokehJS is being loaded, scheduling callback at\", now());\n",
       "      return null;\n",
       "    }\n",
       "    if (js_urls == null || js_urls.length === 0) {\n",
       "      run_callbacks();\n",
       "      return null;\n",
       "    }\n",
       "    console.debug(\"Bokeh: BokehJS not loaded, scheduling load and callback at\", now());\n",
       "    root._bokeh_is_loading = css_urls.length + js_urls.length;\n",
       "\n",
       "    function on_load() {\n",
       "      root._bokeh_is_loading--;\n",
       "      if (root._bokeh_is_loading === 0) {\n",
       "        console.debug(\"Bokeh: all BokehJS libraries/stylesheets loaded\");\n",
       "        run_callbacks()\n",
       "      }\n",
       "    }\n",
       "\n",
       "    function on_error(url) {\n",
       "      console.error(\"failed to load \" + url);\n",
       "    }\n",
       "\n",
       "    for (let i = 0; i < css_urls.length; i++) {\n",
       "      const url = css_urls[i];\n",
       "      const element = document.createElement(\"link\");\n",
       "      element.onload = on_load;\n",
       "      element.onerror = on_error.bind(null, url);\n",
       "      element.rel = \"stylesheet\";\n",
       "      element.type = \"text/css\";\n",
       "      element.href = url;\n",
       "      console.debug(\"Bokeh: injecting link tag for BokehJS stylesheet: \", url);\n",
       "      document.body.appendChild(element);\n",
       "    }\n",
       "\n",
       "    for (let i = 0; i < js_urls.length; i++) {\n",
       "      const url = js_urls[i];\n",
       "      const element = document.createElement('script');\n",
       "      element.onload = on_load;\n",
       "      element.onerror = on_error.bind(null, url);\n",
       "      element.async = false;\n",
       "      element.src = url;\n",
       "      console.debug(\"Bokeh: injecting script tag for BokehJS library: \", url);\n",
       "      document.head.appendChild(element);\n",
       "    }\n",
       "  };\n",
       "\n",
       "  function inject_raw_css(css) {\n",
       "    const element = document.createElement(\"style\");\n",
       "    element.appendChild(document.createTextNode(css));\n",
       "    document.body.appendChild(element);\n",
       "  }\n",
       "\n",
       "  \n",
       "  const js_urls = [\"https://cdn.bokeh.org/bokeh/release/bokeh-2.4.2.min.js\", \"https://cdn.bokeh.org/bokeh/release/bokeh-gl-2.4.2.min.js\", \"https://cdn.bokeh.org/bokeh/release/bokeh-widgets-2.4.2.min.js\", \"https://cdn.bokeh.org/bokeh/release/bokeh-tables-2.4.2.min.js\", \"https://cdn.bokeh.org/bokeh/release/bokeh-mathjax-2.4.2.min.js\"];\n",
       "  const css_urls = [];\n",
       "  \n",
       "\n",
       "  const inline_js = [\n",
       "    function(Bokeh) {\n",
       "      Bokeh.set_log_level(\"info\");\n",
       "    },\n",
       "    function(Bokeh) {\n",
       "    \n",
       "    \n",
       "    }\n",
       "  ];\n",
       "\n",
       "  function run_inline_js() {\n",
       "    \n",
       "    if (root.Bokeh !== undefined || force === true) {\n",
       "      \n",
       "    for (let i = 0; i < inline_js.length; i++) {\n",
       "      inline_js[i].call(root, root.Bokeh);\n",
       "    }\n",
       "    if (force === true) {\n",
       "        display_loaded();\n",
       "      }} else if (Date.now() < root._bokeh_timeout) {\n",
       "      setTimeout(run_inline_js, 100);\n",
       "    } else if (!root._bokeh_failed_load) {\n",
       "      console.log(\"Bokeh: BokehJS failed to load within specified timeout.\");\n",
       "      root._bokeh_failed_load = true;\n",
       "    } else if (force !== true) {\n",
       "      const cell = $(document.getElementById(\"1002\")).parents('.cell').data().cell;\n",
       "      cell.output_area.append_execute_result(NB_LOAD_WARNING)\n",
       "    }\n",
       "\n",
       "  }\n",
       "\n",
       "  if (root._bokeh_is_loading === 0) {\n",
       "    console.debug(\"Bokeh: BokehJS loaded, going straight to plotting\");\n",
       "    run_inline_js();\n",
       "  } else {\n",
       "    load_libs(css_urls, js_urls, function() {\n",
       "      console.debug(\"Bokeh: BokehJS plotting callback run at\", now());\n",
       "      run_inline_js();\n",
       "    });\n",
       "  }\n",
       "}(window));"
      ],
      "application/vnd.bokehjs_load.v0+json": "\n(function(root) {\n  function now() {\n    return new Date();\n  }\n\n  const force = true;\n\n  if (typeof root._bokeh_onload_callbacks === \"undefined\" || force === true) {\n    root._bokeh_onload_callbacks = [];\n    root._bokeh_is_loading = undefined;\n  }\n\n  \n\n  \n  if (typeof (root._bokeh_timeout) === \"undefined\" || force === true) {\n    root._bokeh_timeout = Date.now() + 5000;\n    root._bokeh_failed_load = false;\n  }\n\n  const NB_LOAD_WARNING = {'data': {'text/html':\n     \"<div style='background-color: #fdd'>\\n\"+\n     \"<p>\\n\"+\n     \"BokehJS does not appear to have successfully loaded. If loading BokehJS from CDN, this \\n\"+\n     \"may be due to a slow or bad network connection. Possible fixes:\\n\"+\n     \"</p>\\n\"+\n     \"<ul>\\n\"+\n     \"<li>re-rerun `output_notebook()` to attempt to load from CDN again, or</li>\\n\"+\n     \"<li>use INLINE resources instead, as so:</li>\\n\"+\n     \"</ul>\\n\"+\n     \"<code>\\n\"+\n     \"from bokeh.resources import INLINE\\n\"+\n     \"output_notebook(resources=INLINE)\\n\"+\n     \"</code>\\n\"+\n     \"</div>\"}};\n\n  function display_loaded() {\n    const el = document.getElementById(\"1002\");\n    if (el != null) {\n      el.textContent = \"BokehJS is loading...\";\n    }\n    if (root.Bokeh !== undefined) {\n      if (el != null) {\n        el.textContent = \"BokehJS \" + root.Bokeh.version + \" successfully loaded.\";\n      }\n    } else if (Date.now() < root._bokeh_timeout) {\n      setTimeout(display_loaded, 100)\n    }\n  }\n\n\n  function run_callbacks() {\n    try {\n      root._bokeh_onload_callbacks.forEach(function(callback) {\n        if (callback != null)\n          callback();\n      });\n    } finally {\n      delete root._bokeh_onload_callbacks\n    }\n    console.debug(\"Bokeh: all callbacks have finished\");\n  }\n\n  function load_libs(css_urls, js_urls, callback) {\n    if (css_urls == null) css_urls = [];\n    if (js_urls == null) js_urls = [];\n\n    root._bokeh_onload_callbacks.push(callback);\n    if (root._bokeh_is_loading > 0) {\n      console.debug(\"Bokeh: BokehJS is being loaded, scheduling callback at\", now());\n      return null;\n    }\n    if (js_urls == null || js_urls.length === 0) {\n      run_callbacks();\n      return null;\n    }\n    console.debug(\"Bokeh: BokehJS not loaded, scheduling load and callback at\", now());\n    root._bokeh_is_loading = css_urls.length + js_urls.length;\n\n    function on_load() {\n      root._bokeh_is_loading--;\n      if (root._bokeh_is_loading === 0) {\n        console.debug(\"Bokeh: all BokehJS libraries/stylesheets loaded\");\n        run_callbacks()\n      }\n    }\n\n    function on_error(url) {\n      console.error(\"failed to load \" + url);\n    }\n\n    for (let i = 0; i < css_urls.length; i++) {\n      const url = css_urls[i];\n      const element = document.createElement(\"link\");\n      element.onload = on_load;\n      element.onerror = on_error.bind(null, url);\n      element.rel = \"stylesheet\";\n      element.type = \"text/css\";\n      element.href = url;\n      console.debug(\"Bokeh: injecting link tag for BokehJS stylesheet: \", url);\n      document.body.appendChild(element);\n    }\n\n    for (let i = 0; i < js_urls.length; i++) {\n      const url = js_urls[i];\n      const element = document.createElement('script');\n      element.onload = on_load;\n      element.onerror = on_error.bind(null, url);\n      element.async = false;\n      element.src = url;\n      console.debug(\"Bokeh: injecting script tag for BokehJS library: \", url);\n      document.head.appendChild(element);\n    }\n  };\n\n  function inject_raw_css(css) {\n    const element = document.createElement(\"style\");\n    element.appendChild(document.createTextNode(css));\n    document.body.appendChild(element);\n  }\n\n  \n  const js_urls = [\"https://cdn.bokeh.org/bokeh/release/bokeh-2.4.2.min.js\", \"https://cdn.bokeh.org/bokeh/release/bokeh-gl-2.4.2.min.js\", \"https://cdn.bokeh.org/bokeh/release/bokeh-widgets-2.4.2.min.js\", \"https://cdn.bokeh.org/bokeh/release/bokeh-tables-2.4.2.min.js\", \"https://cdn.bokeh.org/bokeh/release/bokeh-mathjax-2.4.2.min.js\"];\n  const css_urls = [];\n  \n\n  const inline_js = [\n    function(Bokeh) {\n      Bokeh.set_log_level(\"info\");\n    },\n    function(Bokeh) {\n    \n    \n    }\n  ];\n\n  function run_inline_js() {\n    \n    if (root.Bokeh !== undefined || force === true) {\n      \n    for (let i = 0; i < inline_js.length; i++) {\n      inline_js[i].call(root, root.Bokeh);\n    }\n    if (force === true) {\n        display_loaded();\n      }} else if (Date.now() < root._bokeh_timeout) {\n      setTimeout(run_inline_js, 100);\n    } else if (!root._bokeh_failed_load) {\n      console.log(\"Bokeh: BokehJS failed to load within specified timeout.\");\n      root._bokeh_failed_load = true;\n    } else if (force !== true) {\n      const cell = $(document.getElementById(\"1002\")).parents('.cell').data().cell;\n      cell.output_area.append_execute_result(NB_LOAD_WARNING)\n    }\n\n  }\n\n  if (root._bokeh_is_loading === 0) {\n    console.debug(\"Bokeh: BokehJS loaded, going straight to plotting\");\n    run_inline_js();\n  } else {\n    load_libs(css_urls, js_urls, function() {\n      console.debug(\"Bokeh: BokehJS plotting callback run at\", now());\n      run_inline_js();\n    });\n  }\n}(window));"
     },
     "metadata": {},
     "output_type": "display_data"
    }
   ],
   "source": [
    "import kinetics\n",
    "import pandas as pd\n",
    "import numpy as np\n",
    "import matplotlib.pyplot as plt\n",
    "%config InlineBackend.figure_format ='retina'\n",
    "print(kinetics.__version__)\n",
    "\n",
    "import itertools\n",
    "from bokeh.plotting import figure, show\n",
    "from bokeh.io import output_notebook\n",
    "output_notebook()"
   ]
  },
  {
   "cell_type": "markdown",
   "id": "6ba472df-3fc1-4f9d-904f-db9f534f3e8f",
   "metadata": {},
   "source": [
    "## Perfect enzyme modal\n",
    "In this model I've set all the enzyme parameters to very good (but plausible) values.  The kcats are particually high.  \n",
    "\n",
    "I've done this to try to get a feel for how the thermodynamics are limiting the reaction.  "
   ]
  },
  {
   "cell_type": "code",
   "execution_count": 2,
   "id": "00ec09e0-3d46-44a7-9906-3ca6d5fc8620",
   "metadata": {},
   "outputs": [],
   "source": [
    "aldolase = kinetics.Bi_Uni_sep_eq(kcat='aldolase_kcat',\n",
    "                                  kma='aldolase_km_a', kmb='aldolase_km_b',\n",
    "                                  kmp='aldolase_km_p',\n",
    "                                  keq='aldolase_keq',\n",
    "                                  a='a', b='b', p='p', enz='aldolase',\n",
    "                                  substrates=['a', 'b'], products=['p'])\n",
    "\n",
    "aldolase.parameters = {'aldolase_km_a': 100,\n",
    "                       'aldolase_km_b': 100,\n",
    "                       'aldolase_km_p': 100,\n",
    "                       'aldolase_kcat': 1000}\n",
    "\n",
    "aldolase.parameter_distributions = {'aldolase_keq': (2.97, 6.32)}\n",
    "\n",
    "ring_close = kinetics.Uni_mass_action_eq(keq='ring_close_keq', kf='ring_close_kf',\n",
    "                                         a='p', p='p_closed',\n",
    "                                         substrates=['p'], products=['p_closed'])\n",
    "\n",
    "ring_close.parameters = {'ring_close_kf': 1000000}\n",
    "\n",
    "ring_close.parameter_distributions = {'ring_close_keq': (0.363, 1.15)}"
   ]
  },
  {
   "cell_type": "code",
   "execution_count": 3,
   "id": "6edd1d87-fc0f-4364-a4d1-a3a5a5bc4652",
   "metadata": {},
   "outputs": [],
   "source": [
    "# Set up the model\n",
    "model = kinetics.Model()\n",
    "\n",
    "# Add reactions\n",
    "model.append(aldolase)\n",
    "model.append(ring_close)"
   ]
  },
  {
   "cell_type": "code",
   "execution_count": 4,
   "id": "26445e97-7563-48fb-be93-ac5ae401bf0b",
   "metadata": {},
   "outputs": [
    {
     "name": "stdout",
     "output_type": "stream",
     "text": [
      "{'aldolase': 360.57}\n"
     ]
    }
   ],
   "source": [
    "# calc conc (uM) of enzyme for 10 mg/ml\n",
    "mgml = kinetics.mgml_to_uM({'aldolase': 27734}, \n",
    "                           {'aldolase': 10})\n",
    "print(mgml)"
   ]
  },
  {
   "cell_type": "code",
   "execution_count": 5,
   "id": "4506e57e-09cf-47de-bae8-7ade563e4183",
   "metadata": {},
   "outputs": [],
   "source": [
    "# Set time\n",
    "model.set_time(0, 60*24, 500)\n",
    "\n",
    "# Set starting concentrations with no error\n",
    "# Issue setting concs to 0, so initialise at 1.\n",
    "model.species = {\"aldolase\" : 360,\n",
    "                 \"a\": 5000,\n",
    "                 \"b\": 5000,\n",
    "                 'p': 1,\n",
    "                 'p_closed': 1}\n",
    "\n",
    "# Command to prepare model for running.\n",
    "model.setup_model()"
   ]
  },
  {
   "cell_type": "code",
   "execution_count": 6,
   "id": "6751b469-df71-4dc5-b5cb-e844cd8a1772",
   "metadata": {},
   "outputs": [
    {
     "name": "stderr",
     "output_type": "stream",
     "text": [
      "100%|█████████████████████████████████████████████████████████████████████████████████████████████████████████████████████████████████████████████| 200/200 [00:01<00:00, 157.41it/s]\n"
     ]
    }
   ],
   "source": [
    "# Run the model 1000 times, sampling from distributions\n",
    "samples = kinetics.sample_uniforms(model, num_samples=200)\n",
    "outputs = kinetics.run_all_models(model, samples)\n",
    "df95 = kinetics.dataframes_quartiles(model, outputs, quartile=95)"
   ]
  },
  {
   "cell_type": "code",
   "execution_count": 7,
   "id": "8a95cf93-bbe2-4f1b-9da1-af1ccc8ce279",
   "metadata": {},
   "outputs": [
    {
     "name": "stdout",
     "output_type": "stream",
     "text": [
      "-- Substrate and Donor --\n"
     ]
    },
    {
     "data": {
      "image/png": "[encoded data removed]",
      "text/plain": [
       "<Figure size 432x288 with 1 Axes>"
      ]
     },
     "metadata": {
      "image/png": {
       "height": 261,
       "width": 395
      },
      "needs_background": "light"
     },
     "output_type": "display_data"
    },
    {
     "name": "stdout",
     "output_type": "stream",
     "text": [
      "-- Product --\n"
     ]
    },
    {
     "data": {
      "image/png": "[encoded data removed]",
      "text/plain": [
       "<Figure size 432x288 with 1 Axes>"
      ]
     },
     "metadata": {
      "image/png": {
       "height": 261,
       "width": 395
      },
      "needs_background": "light"
     },
     "output_type": "display_data"
    }
   ],
   "source": [
    "# Plot the confidence intervals\n",
    "print(\"-- Substrate and Donor --\")\n",
    "kinetics.plot_ci_intervals(['a', 'b'], df95,\n",
    "                           units=['μM', 'Time (mins)'],\n",
    "                           alpha=0.1)\n",
    "plt.show()\n",
    "\n",
    "\n",
    "print(\"-- Product --\")\n",
    "kinetics.plot_ci_intervals(['p', 'p_closed'], df95,\n",
    "                           units=['μM', 'Time (mins)'],\n",
    "                           alpha=0.1)\n",
    "plt.show()"
   ]
  },
  {
   "cell_type": "markdown",
   "id": "f13f3459-4c1a-4187-a900-ccb1caa244ec",
   "metadata": {},
   "source": [
    "## Plot donor excess vs conversion"
   ]
  },
  {
   "cell_type": "code",
   "execution_count": 8,
   "id": "fa49a33d-08b1-4c77-97bf-1c085d35f122",
   "metadata": {},
   "outputs": [
    {
     "data": {
      "image/png": "[encoded data removed]",
      "text/plain": [
       "<Figure size 432x288 with 1 Axes>"
      ]
     },
     "metadata": {
      "image/png": {
       "height": 277,
       "width": 395
      },
      "needs_background": "light"
     },
     "output_type": "display_data"
    }
   ],
   "source": [
    "donor_range = np.linspace(1, 20, 100)\n",
    "results = []\n",
    "for conc in donor_range:\n",
    "    model.species['b'] = conc*5000\n",
    "    model.setup_model()\n",
    "    model.run_model()\n",
    "    df = model.results_dataframe()\n",
    "    product = round(df['p'].iloc[-1],0) + round(df['p_closed'].iloc[-1],0)\n",
    "    results.append(product)\n",
    "\n",
    "plt.plot(donor_range, results, '-')\n",
    "plt.xlabel(\"Donor equivalents\")\n",
    "plt.ylabel(\"Product\")\n",
    "plt.title(\"Effect of excess donor\")\n",
    "plt.show()"
   ]
  },
  {
   "cell_type": "markdown",
   "id": "602f426f-303a-4d99-a7af-27f068cf1256",
   "metadata": {},
   "source": [
    "## Effect of pH and donor conc\n",
    "Previous calculations have all used the equilibrium constant calculated at pH 7.5.  \n",
    "What happens when we change pH (and also ionic strength and Mg conc). "
   ]
  },
  {
   "cell_type": "code",
   "execution_count": 9,
   "id": "36dd05a7-3f51-4ee3-b057-b639768b7448",
   "metadata": {},
   "outputs": [],
   "source": [
    "import numpy as np\n",
    "from equilibrator_api import ComponentContribution, Q_\n",
    "from equilibrator_assets.generate_compound import create_compound, get_or_create_compound\n",
    "from rdkit import Chem\n",
    "from equilibrator_api import Reaction\n",
    "from equilibrator_cache import Q_\n",
    "from component_contribution.predict import GibbsEnergyPredictor\n",
    "\n",
    "import matplotlib.pyplot as plt\n",
    "plt.rcParams[\"figure.figsize\"] = (8,8)\n",
    "%config InlineBackend.figure_format ='retina'\n",
    "\n",
    "from math import log10, floor\n",
    "\n",
    "from numpyarray_to_latex.jupyter import to_jup\n",
    "\n",
    "cc = ComponentContribution()\n",
    "GP = GibbsEnergyPredictor()\n",
    "\n",
    "cc.p_h = Q_(7.5)\n",
    "cc.p_mg = Q_(0)\n",
    "cc.ionic_strength = Q_(\"0.25M\")\n",
    "T = 298.15\n",
    "R = 8.31446261815324\n",
    "cc.temperature = Q_(f\"{T}K\")"
   ]
  },
  {
   "cell_type": "code",
   "execution_count": 10,
   "id": "5e89b721-a52c-4d64-a052-f11dfcddd767",
   "metadata": {},
   "outputs": [
    {
     "name": "stderr",
     "output_type": "stream",
     "text": [
      "==============================\n",
      "*** Open Babel Warning  in InChI code\n",
      "  #1 :Omitted undefined stereo\n",
      "==============================\n",
      "*** Open Babel Warning  in InChI code\n",
      "  #1 :Omitted undefined stereo\n",
      "==============================\n",
      "*** Open Babel Warning  in InChI code\n",
      "  #1 :Omitted undefined stereo\n",
      "==============================\n",
      "*** Open Babel Warning  in InChI code\n",
      "  #1 :Omitted undefined stereo\n",
      "==============================\n",
      "*** Open Babel Warning  in InChI code\n",
      "  #1 :Omitted undefined stereo\n",
      "==============================\n",
      "*** Open Babel Warning  in InChI code\n",
      "  #1 :Omitted undefined stereo\n"
     ]
    }
   ],
   "source": [
    "# define smiles\n",
    "# define smiles\n",
    "substrate_smi = \"OC(COP(O)(O)=O)C=O\"\n",
    "donor_smi = \"O=CCCCCCC\"\n",
    "open_product_smi = \"O=CC(CCCCC)C(C(COP(O)(O)=O)O)O\"  \n",
    "closed_product_smi = \"OC1C(CCCCC)C(O)OC1COP(O)(O)=O\"  \n",
    "list_smis = [substrate_smi, donor_smi, open_product_smi, closed_product_smi]\n",
    "\n",
    "# get compounds for use with equilibrator\n",
    "compounds = get_or_create_compound(cc.ccache, list_smis, mol_format=\"smiles\")\n",
    "\n",
    "substrate = compounds[0]\n",
    "donor = compounds[1]\n",
    "open_product = compounds[2]\n",
    "closed_product = compounds[3]\n"
   ]
  },
  {
   "cell_type": "code",
   "execution_count": 11,
   "id": "9f2859e5-83ef-4752-aab6-acace828ab0a",
   "metadata": {},
   "outputs": [
    {
     "name": "stdout",
     "output_type": "stream",
     "text": [
      "is balanced = True\n",
      "is balanced = True\n",
      "is balanced = True\n"
     ]
    }
   ],
   "source": [
    "aldolase = Reaction({substrate: -1, \n",
    "                     donor: -1,\n",
    "                     open_product: +1})\n",
    "\n",
    "ring_closing = Reaction({open_product: -1, \n",
    "                         closed_product: +1})\n",
    "\n",
    "both_reactions = Reaction({substrate: -1, \n",
    "                           donor: -1,\n",
    "                           closed_product: +1})\n",
    "\n",
    "print(f'is balanced = {aldolase.is_balanced()}')\n",
    "print(f'is balanced = {ring_closing.is_balanced()}')\n",
    "print(f'is balanced = {both_reactions.is_balanced()}')"
   ]
  },
  {
   "cell_type": "code",
   "execution_count": 12,
   "id": "c8118724-2fa7-4899-b4a5-b98040b8e5d0",
   "metadata": {},
   "outputs": [],
   "source": [
    "def round_sig(x, sig=3):\n",
    "    return round(x, sig-int(floor(log10(abs(x))))-1)\n",
    "\n",
    "def calc_keq(reaction, pH=7.5):\n",
    "    ''' returns the Keq for a given reaction, with error '''\n",
    "    \n",
    "    cc.p_h = Q_(pH)\n",
    "    dG0_prime = cc.standard_dg_prime(reaction)\n",
    "    dG0_prime_j_mol = dG0_prime.value.m_as(\"J/mol\")\n",
    "    dG0_prime_j_mol_error = dG0_prime.error.m_as(\"J/mol\")\n",
    "    \n",
    "    dG0_prime_lower = dG0_prime_j_mol - dG0_prime_j_mol_error\n",
    "    dG0_prime_upper = dG0_prime_j_mol + dG0_prime_j_mol_error\n",
    "    lower_upper = sorted([dG0_prime_lower, dG0_prime_upper], reverse=True)\n",
    "    \n",
    "    keq = round_sig(np.exp(-dG0_prime_j_mol/(R*T)))\n",
    "    keq_lower = round_sig(np.exp(-lower_upper[0]/(R*T)))\n",
    "    keq_upper = round_sig(np.exp(-lower_upper[1]/(R*T)))\n",
    "\n",
    "    #keq_error = np.exp(-dG0_prime_j_mol_error/(R*T))\n",
    "    #print([keq_lower, keq_upper])\n",
    "    return keq, [keq_lower, keq_upper]"
   ]
  },
  {
   "cell_type": "code",
   "execution_count": 13,
   "id": "c6e5de43-499d-4e6b-ba20-47be7c54be0c",
   "metadata": {},
   "outputs": [],
   "source": [
    "model.species = {\"aldolase\" : 360,\n",
    "                 \"a\": 5000,\n",
    "                 \"b\": 5000,\n",
    "                 'p': 1,\n",
    "                 'p_closed': 1}\n",
    "\n",
    "# Command to prepare model for running.\n",
    "model.setup_model()"
   ]
  },
  {
   "cell_type": "markdown",
   "id": "c2202f0b-2da7-4b97-985e-c1e74d014171",
   "metadata": {},
   "source": [
    "## pH vs vs amine vs conversion"
   ]
  },
  {
   "cell_type": "code",
   "execution_count": 14,
   "id": "9ee57958-954e-4258-98ed-ea183120eaf3",
   "metadata": {},
   "outputs": [
    {
     "data": {
      "text/html": [
       "\n",
       "\n",
       "\n",
       "\n",
       "\n",
       "\n",
       "  <div class=\"bk-root\" id=\"5f807301-c5f7-4120-8e6c-9e1b6da82c65\" data-root-id=\"1003\"></div>\n"
      ]
     },
     "metadata": {},
     "output_type": "display_data"
    },
    {
     "data": {
      "application/javascript": [
       "(function(root) {\n",
       "  function embed_document(root) {\n",
       "    \n",
       "  const docs_json = {\"2d919516-ed8f-4a5c-919e-1d8d8d6877e4\":{\"defs\":[],\"roots\":{\"references\":[{\"attributes\":{\"below\":[{\"id\":\"1014\"}],\"center\":[{\"id\":\"1017\"},{\"id\":\"1021\"},{\"id\":\"1052\"}],\"left\":[{\"id\":\"1018\"}],\"renderers\":[{\"id\":\"1040\"},{\"id\":\"1058\"},{\"id\":\"1077\"},{\"id\":\"1098\"},{\"id\":\"1121\"}],\"title\":{\"id\":\"1004\"},\"toolbar\":{\"id\":\"1029\"},\"x_range\":{\"id\":\"1006\"},\"x_scale\":{\"id\":\"1010\"},\"y_range\":{\"id\":\"1008\"},\"y_scale\":{\"id\":\"1012\"}},\"id\":\"1003\",\"subtype\":\"Figure\",\"type\":\"Plot\"},{\"attributes\":{\"axis\":{\"id\":\"1014\"},\"coordinates\":null,\"group\":null,\"ticker\":null},\"id\":\"1017\",\"type\":\"Grid\"},{\"attributes\":{\"axis_label\":\"Product\",\"coordinates\":null,\"formatter\":{\"id\":\"1044\"},\"group\":null,\"major_label_policy\":{\"id\":\"1045\"},\"ticker\":{\"id\":\"1019\"}},\"id\":\"1018\",\"type\":\"LinearAxis\"},{\"attributes\":{\"line_alpha\":0.1,\"line_color\":\"#22A784\",\"line_width\":2,\"x\":{\"field\":\"x\"},\"y\":{\"field\":\"y\"}},\"id\":\"1096\",\"type\":\"Line\"},{\"attributes\":{\"axis_label\":\"pH\",\"coordinates\":null,\"formatter\":{\"id\":\"1047\"},\"group\":null,\"major_label_policy\":{\"id\":\"1048\"},\"ticker\":{\"id\":\"1015\"}},\"id\":\"1014\",\"type\":\"LinearAxis\"},{\"attributes\":{\"source\":{\"id\":\"1117\"}},\"id\":\"1122\",\"type\":\"CDSView\"},{\"attributes\":{},\"id\":\"1012\",\"type\":\"LinearScale\"},{\"attributes\":{},\"id\":\"1114\",\"type\":\"Selection\"},{\"attributes\":{},\"id\":\"1006\",\"type\":\"DataRange1d\"},{\"attributes\":{\"source\":{\"id\":\"1036\"}},\"id\":\"1041\",\"type\":\"CDSView\"},{\"attributes\":{},\"id\":\"1113\",\"type\":\"UnionRenderers\"},{\"attributes\":{},\"id\":\"1008\",\"type\":\"DataRange1d\"},{\"attributes\":{},\"id\":\"1022\",\"type\":\"PanTool\"},{\"attributes\":{},\"id\":\"1044\",\"type\":\"BasicTickFormatter\"},{\"attributes\":{},\"id\":\"1138\",\"type\":\"UnionRenderers\"},{\"attributes\":{\"source\":{\"id\":\"1094\"}},\"id\":\"1099\",\"type\":\"CDSView\"},{\"attributes\":{\"axis\":{\"id\":\"1018\"},\"coordinates\":null,\"dimension\":1,\"group\":null,\"ticker\":null},\"id\":\"1021\",\"type\":\"Grid\"},{\"attributes\":{\"label\":{\"value\":\"5 donor equivs\"},\"renderers\":[{\"id\":\"1058\"}]},\"id\":\"1072\",\"type\":\"LegendItem\"},{\"attributes\":{\"label\":{\"value\":\"1 donor equivs\"},\"renderers\":[{\"id\":\"1121\"}]},\"id\":\"1141\",\"type\":\"LegendItem\"},{\"attributes\":{\"coordinates\":null,\"data_source\":{\"id\":\"1036\"},\"glyph\":{\"id\":\"1037\"},\"group\":null,\"hover_glyph\":null,\"muted_glyph\":{\"id\":\"1039\"},\"nonselection_glyph\":{\"id\":\"1038\"},\"view\":{\"id\":\"1041\"}},\"id\":\"1040\",\"type\":\"GlyphRenderer\"},{\"attributes\":{},\"id\":\"1015\",\"type\":\"BasicTicker\"},{\"attributes\":{},\"id\":\"1091\",\"type\":\"Selection\"},{\"attributes\":{},\"id\":\"1027\",\"type\":\"HelpTool\"},{\"attributes\":{\"overlay\":{\"id\":\"1028\"}},\"id\":\"1024\",\"type\":\"BoxZoomTool\"},{\"attributes\":{\"coordinates\":null,\"group\":null,\"items\":[{\"id\":\"1053\"},{\"id\":\"1072\"},{\"id\":\"1093\"},{\"id\":\"1116\"},{\"id\":\"1141\"}]},\"id\":\"1052\",\"type\":\"Legend\"},{\"attributes\":{},\"id\":\"1026\",\"type\":\"ResetTool\"},{\"attributes\":{},\"id\":\"1023\",\"type\":\"WheelZoomTool\"},{\"attributes\":{\"line_alpha\":0.2,\"line_color\":\"#404387\",\"line_width\":2,\"x\":{\"field\":\"x\"},\"y\":{\"field\":\"y\"}},\"id\":\"1057\",\"type\":\"Line\"},{\"attributes\":{\"data\":{\"x\":{\"__ndarray__\":\"AAAAAAAAEEBVVVVVVVURQKuqqqqqqhJAAAAAAAAAFEBVVVVVVVUVQKqqqqqqqhZAAAAAAAAAGEBVVVVVVVUZQKqqqqqqqhpAAAAAAAAAHEBVVVVVVVUdQKqqqqqqqh5AAAAAAAAAIECqqqqqqqogQFVVVVVVVSFAAAAAAAAAIkCqqqqqqqoiQFVVVVVVVSNAAAAAAAAAJECqqqqqqqokQFVVVVVVVSVAAAAAAAAAJkCqqqqqqqomQFVVVVVVVSdAAAAAAAAAKEA=\",\"dtype\":\"float64\",\"order\":\"little\",\"shape\":[25]},\"y\":[4976.0,4975.0,4976.0,4975.0,4976.0,4976.0,4976.0,4975.0,4975.0,4976.0,4975.0,4975.0,4976.0,4975.0,4976.0,4976.0,4976.0,4976.0,4976.0,4976.0,4977.0,4977.0,4979.0,4981.0,4984.0]},\"selected\":{\"id\":\"1139\"},\"selection_policy\":{\"id\":\"1138\"}},\"id\":\"1117\",\"type\":\"ColumnDataSource\"},{\"attributes\":{\"line_color\":\"#79D151\",\"line_width\":2,\"x\":{\"field\":\"x\"},\"y\":{\"field\":\"y\"}},\"id\":\"1118\",\"type\":\"Line\"},{\"attributes\":{},\"id\":\"1048\",\"type\":\"AllLabels\"},{\"attributes\":{\"data\":{\"x\":{\"__ndarray__\":\"AAAAAAAAEEBVVVVVVVURQKuqqqqqqhJAAAAAAAAAFEBVVVVVVVUVQKqqqqqqqhZAAAAAAAAAGEBVVVVVVVUZQKqqqqqqqhpAAAAAAAAAHEBVVVVVVVUdQKqqqqqqqh5AAAAAAAAAIECqqqqqqqogQFVVVVVVVSFAAAAAAAAAIkCqqqqqqqoiQFVVVVVVVSNAAAAAAAAAJECqqqqqqqokQFVVVVVVVSVAAAAAAAAAJkCqqqqqqqomQFVVVVVVVSdAAAAAAAAAKEA=\",\"dtype\":\"float64\",\"order\":\"little\",\"shape\":[25]},\"y\":[5001.0,5001.0,5001.0,5000.0,5001.0,5001.0,5000.0,5000.0,5001.0,5001.0,5001.0,5001.0,5001.0,5000.0,5001.0,5001.0,5001.0,5001.0,5000.0,5000.0,5001.0,5001.0,5001.0,5001.0,5001.0]},\"selected\":{\"id\":\"1114\"},\"selection_policy\":{\"id\":\"1113\"}},\"id\":\"1094\",\"type\":\"ColumnDataSource\"},{\"attributes\":{\"coordinates\":null,\"data_source\":{\"id\":\"1054\"},\"glyph\":{\"id\":\"1055\"},\"group\":null,\"hover_glyph\":null,\"muted_glyph\":{\"id\":\"1057\"},\"nonselection_glyph\":{\"id\":\"1056\"},\"view\":{\"id\":\"1059\"}},\"id\":\"1058\",\"type\":\"GlyphRenderer\"},{\"attributes\":{\"line_alpha\":0.2,\"line_color\":\"#440154\",\"line_width\":2,\"x\":{\"field\":\"x\"},\"y\":{\"field\":\"y\"}},\"id\":\"1039\",\"type\":\"Line\"},{\"attributes\":{\"label\":{\"value\":\"2 donor equivs\"},\"renderers\":[{\"id\":\"1077\"}]},\"id\":\"1093\",\"type\":\"LegendItem\"},{\"attributes\":{\"coordinates\":null,\"data_source\":{\"id\":\"1073\"},\"glyph\":{\"id\":\"1074\"},\"group\":null,\"hover_glyph\":null,\"muted_glyph\":{\"id\":\"1076\"},\"nonselection_glyph\":{\"id\":\"1075\"},\"view\":{\"id\":\"1078\"}},\"id\":\"1077\",\"type\":\"GlyphRenderer\"},{\"attributes\":{},\"id\":\"1049\",\"type\":\"UnionRenderers\"},{\"attributes\":{},\"id\":\"1070\",\"type\":\"Selection\"},{\"attributes\":{\"data\":{\"x\":{\"__ndarray__\":\"AAAAAAAAEEBVVVVVVVURQKuqqqqqqhJAAAAAAAAAFEBVVVVVVVUVQKqqqqqqqhZAAAAAAAAAGEBVVVVVVVUZQKqqqqqqqhpAAAAAAAAAHEBVVVVVVVUdQKqqqqqqqh5AAAAAAAAAIECqqqqqqqogQFVVVVVVVSFAAAAAAAAAIkCqqqqqqqoiQFVVVVVVVSNAAAAAAAAAJECqqqqqqqokQFVVVVVVVSVAAAAAAAAAJkCqqqqqqqomQFVVVVVVVSdAAAAAAAAAKEA=\",\"dtype\":\"float64\",\"order\":\"little\",\"shape\":[25]},\"y\":[5002.0,5002.0,5002.0,5002.0,5002.0,5002.0,5002.0,5002.0,5002.0,5002.0,5002.0,5002.0,5002.0,5002.0,5002.0,5002.0,5002.0,5002.0,5002.0,5002.0,5002.0,5002.0,5002.0,5002.0,5002.0]},\"selected\":{\"id\":\"1050\"},\"selection_policy\":{\"id\":\"1049\"}},\"id\":\"1036\",\"type\":\"ColumnDataSource\"},{\"attributes\":{\"line_alpha\":0.1,\"line_color\":\"#79D151\",\"line_width\":2,\"x\":{\"field\":\"x\"},\"y\":{\"field\":\"y\"}},\"id\":\"1119\",\"type\":\"Line\"},{\"attributes\":{},\"id\":\"1045\",\"type\":\"AllLabels\"},{\"attributes\":{\"line_alpha\":0.1,\"line_color\":\"#404387\",\"line_width\":2,\"x\":{\"field\":\"x\"},\"y\":{\"field\":\"y\"}},\"id\":\"1056\",\"type\":\"Line\"},{\"attributes\":{},\"id\":\"1069\",\"type\":\"UnionRenderers\"},{\"attributes\":{},\"id\":\"1090\",\"type\":\"UnionRenderers\"},{\"attributes\":{\"bottom_units\":\"screen\",\"coordinates\":null,\"fill_alpha\":0.5,\"fill_color\":\"lightgrey\",\"group\":null,\"left_units\":\"screen\",\"level\":\"overlay\",\"line_alpha\":1.0,\"line_color\":\"black\",\"line_dash\":[4,4],\"line_width\":2,\"right_units\":\"screen\",\"syncable\":false,\"top_units\":\"screen\"},\"id\":\"1028\",\"type\":\"BoxAnnotation\"},{\"attributes\":{},\"id\":\"1139\",\"type\":\"Selection\"},{\"attributes\":{\"data\":{\"x\":{\"__ndarray__\":\"AAAAAAAAEEBVVVVVVVURQKuqqqqqqhJAAAAAAAAAFEBVVVVVVVUVQKqqqqqqqhZAAAAAAAAAGEBVVVVVVVUZQKqqqqqqqhpAAAAAAAAAHEBVVVVVVVUdQKqqqqqqqh5AAAAAAAAAIECqqqqqqqogQFVVVVVVVSFAAAAAAAAAIkCqqqqqqqoiQFVVVVVVVSNAAAAAAAAAJECqqqqqqqokQFVVVVVVVSVAAAAAAAAAJkCqqqqqqqomQFVVVVVVVSdAAAAAAAAAKEA=\",\"dtype\":\"float64\",\"order\":\"little\",\"shape\":[25]},\"y\":[5001.0,5002.0,5002.0,5002.0,5001.0,5002.0,5002.0,5002.0,5002.0,5002.0,5002.0,5002.0,5002.0,5002.0,5002.0,5002.0,5002.0,5002.0,5002.0,5002.0,5002.0,5002.0,5002.0,5002.0,5002.0]},\"selected\":{\"id\":\"1070\"},\"selection_policy\":{\"id\":\"1069\"}},\"id\":\"1054\",\"type\":\"ColumnDataSource\"},{\"attributes\":{\"source\":{\"id\":\"1054\"}},\"id\":\"1059\",\"type\":\"CDSView\"},{\"attributes\":{\"data\":{\"x\":{\"__ndarray__\":\"AAAAAAAAEEBVVVVVVVURQKuqqqqqqhJAAAAAAAAAFEBVVVVVVVUVQKqqqqqqqhZAAAAAAAAAGEBVVVVVVVUZQKqqqqqqqhpAAAAAAAAAHEBVVVVVVVUdQKqqqqqqqh5AAAAAAAAAIECqqqqqqqogQFVVVVVVVSFAAAAAAAAAIkCqqqqqqqoiQFVVVVVVVSNAAAAAAAAAJECqqqqqqqokQFVVVVVVVSVAAAAAAAAAJkCqqqqqqqomQFVVVVVVVSdAAAAAAAAAKEA=\",\"dtype\":\"float64\",\"order\":\"little\",\"shape\":[25]},\"y\":[5001.0,5002.0,5002.0,5002.0,5001.0,5002.0,5002.0,5002.0,5001.0,5002.0,5002.0,5002.0,5002.0,5002.0,5001.0,5002.0,5002.0,5002.0,5002.0,5002.0,5002.0,5001.0,5002.0,5002.0,5002.0]},\"selected\":{\"id\":\"1091\"},\"selection_policy\":{\"id\":\"1090\"}},\"id\":\"1073\",\"type\":\"ColumnDataSource\"},{\"attributes\":{},\"id\":\"1010\",\"type\":\"LinearScale\"},{\"attributes\":{\"line_color\":\"#440154\",\"line_width\":2,\"x\":{\"field\":\"x\"},\"y\":{\"field\":\"y\"}},\"id\":\"1037\",\"type\":\"Line\"},{\"attributes\":{\"line_color\":\"#29788E\",\"line_width\":2,\"x\":{\"field\":\"x\"},\"y\":{\"field\":\"y\"}},\"id\":\"1074\",\"type\":\"Line\"},{\"attributes\":{\"line_alpha\":0.1,\"line_color\":\"#29788E\",\"line_width\":2,\"x\":{\"field\":\"x\"},\"y\":{\"field\":\"y\"}},\"id\":\"1075\",\"type\":\"Line\"},{\"attributes\":{},\"id\":\"1025\",\"type\":\"SaveTool\"},{\"attributes\":{},\"id\":\"1019\",\"type\":\"BasicTicker\"},{\"attributes\":{\"line_alpha\":0.2,\"line_color\":\"#22A784\",\"line_width\":2,\"x\":{\"field\":\"x\"},\"y\":{\"field\":\"y\"}},\"id\":\"1097\",\"type\":\"Line\"},{\"attributes\":{\"label\":{\"value\":\"10 donor equivs\"},\"renderers\":[{\"id\":\"1040\"}]},\"id\":\"1053\",\"type\":\"LegendItem\"},{\"attributes\":{\"line_alpha\":0.2,\"line_color\":\"#79D151\",\"line_width\":2,\"x\":{\"field\":\"x\"},\"y\":{\"field\":\"y\"}},\"id\":\"1120\",\"type\":\"Line\"},{\"attributes\":{\"coordinates\":null,\"data_source\":{\"id\":\"1094\"},\"glyph\":{\"id\":\"1095\"},\"group\":null,\"hover_glyph\":null,\"muted_glyph\":{\"id\":\"1097\"},\"nonselection_glyph\":{\"id\":\"1096\"},\"view\":{\"id\":\"1099\"}},\"id\":\"1098\",\"type\":\"GlyphRenderer\"},{\"attributes\":{\"line_alpha\":0.2,\"line_color\":\"#29788E\",\"line_width\":2,\"x\":{\"field\":\"x\"},\"y\":{\"field\":\"y\"}},\"id\":\"1076\",\"type\":\"Line\"},{\"attributes\":{\"coordinates\":null,\"data_source\":{\"id\":\"1117\"},\"glyph\":{\"id\":\"1118\"},\"group\":null,\"hover_glyph\":null,\"muted_glyph\":{\"id\":\"1120\"},\"nonselection_glyph\":{\"id\":\"1119\"},\"view\":{\"id\":\"1122\"}},\"id\":\"1121\",\"type\":\"GlyphRenderer\"},{\"attributes\":{\"tools\":[{\"id\":\"1022\"},{\"id\":\"1023\"},{\"id\":\"1024\"},{\"id\":\"1025\"},{\"id\":\"1026\"},{\"id\":\"1027\"}]},\"id\":\"1029\",\"type\":\"Toolbar\"},{\"attributes\":{\"line_alpha\":0.1,\"line_color\":\"#440154\",\"line_width\":2,\"x\":{\"field\":\"x\"},\"y\":{\"field\":\"y\"}},\"id\":\"1038\",\"type\":\"Line\"},{\"attributes\":{\"source\":{\"id\":\"1073\"}},\"id\":\"1078\",\"type\":\"CDSView\"},{\"attributes\":{\"line_color\":\"#22A784\",\"line_width\":2,\"x\":{\"field\":\"x\"},\"y\":{\"field\":\"y\"}},\"id\":\"1095\",\"type\":\"Line\"},{\"attributes\":{},\"id\":\"1047\",\"type\":\"BasicTickFormatter\"},{\"attributes\":{\"line_color\":\"#404387\",\"line_width\":2,\"x\":{\"field\":\"x\"},\"y\":{\"field\":\"y\"}},\"id\":\"1055\",\"type\":\"Line\"},{\"attributes\":{},\"id\":\"1050\",\"type\":\"Selection\"},{\"attributes\":{\"label\":{\"value\":\"1.1 donor equivs\"},\"renderers\":[{\"id\":\"1098\"}]},\"id\":\"1116\",\"type\":\"LegendItem\"},{\"attributes\":{\"coordinates\":null,\"group\":null,\"text\":\"pH & donor vs conversion\"},\"id\":\"1004\",\"type\":\"Title\"}],\"root_ids\":[\"1003\"]},\"title\":\"Bokeh Application\",\"version\":\"2.4.2\"}};\n",
       "  const render_items = [{\"docid\":\"2d919516-ed8f-4a5c-919e-1d8d8d6877e4\",\"root_ids\":[\"1003\"],\"roots\":{\"1003\":\"5f807301-c5f7-4120-8e6c-9e1b6da82c65\"}}];\n",
       "  root.Bokeh.embed.embed_items_notebook(docs_json, render_items);\n",
       "\n",
       "  }\n",
       "  if (root.Bokeh !== undefined) {\n",
       "    embed_document(root);\n",
       "  } else {\n",
       "    let attempts = 0;\n",
       "    const timer = setInterval(function(root) {\n",
       "      if (root.Bokeh !== undefined) {\n",
       "        clearInterval(timer);\n",
       "        embed_document(root);\n",
       "      } else {\n",
       "        attempts++;\n",
       "        if (attempts > 100) {\n",
       "          clearInterval(timer);\n",
       "          console.log(\"Bokeh: ERROR: Unable to run BokehJS code because BokehJS library is missing\");\n",
       "        }\n",
       "      }\n",
       "    }, 10, root)\n",
       "  }\n",
       "})(window);"
      ],
      "application/vnd.bokehjs_exec.v0+json": ""
     },
     "metadata": {
      "application/vnd.bokehjs_exec.v0+json": {
       "id": "1003"
      }
     },
     "output_type": "display_data"
    }
   ],
   "source": [
    "from bokeh.palettes import Viridis6 as palette\n",
    "colors = itertools.cycle(palette) \n",
    "\n",
    "pH_range = np.linspace(4, 12, 25)\n",
    "amine_range = [10, 5, 2, 1.1, 1]\n",
    "\n",
    "results = []\n",
    "p = figure(title=\"pH & donor vs conversion\", x_axis_label='pH', y_axis_label='Product')\n",
    "\n",
    "\n",
    "for amine in amine_range:\n",
    "    results = []\n",
    "    model.species['b'] = amine*5000\n",
    "    model.setup_model()\n",
    "    \n",
    "    for pH in pH_range:\n",
    "        model.parameters['aldolase_keq'] = calc_keq(aldolase, pH=pH)[0]\n",
    "        model.parameters['ring_close_keq'] = calc_keq(ring_closing, pH=pH)[0]\n",
    "        model.setup_model()\n",
    "        model.run_model()\n",
    "        df = model.results_dataframe()\n",
    "        product = round(df['p'].iloc[-1],0) + round(df['p_closed'].iloc[-1],0)\n",
    "        results.append(product)\n",
    "        \n",
    "    p.line(pH_range, results, legend_label=f\"{amine} donor equivs\", color=next(colors), line_width=2)\n",
    "\n",
    "show(p)\n"
   ]
  },
  {
   "cell_type": "code",
   "execution_count": 15,
   "id": "a29e728e-0922-4674-84d5-dbbce075690a",
   "metadata": {},
   "outputs": [
    {
     "data": {
      "text/html": [
       "\n",
       "\n",
       "\n",
       "\n",
       "\n",
       "\n",
       "  <div class=\"bk-root\" id=\"e4532e42-d514-4e3c-9706-4cc877cf48fe\" data-root-id=\"1250\"></div>\n"
      ]
     },
     "metadata": {},
     "output_type": "display_data"
    },
    {
     "data": {
      "application/javascript": [
       "(function(root) {\n",
       "  function embed_document(root) {\n",
       "    \n",
       "  const docs_json = {\"278dfd2e-3137-40c6-95ea-3100ce85372f\":{\"defs\":[],\"roots\":{\"references\":[{\"attributes\":{\"below\":[{\"id\":\"1261\"}],\"center\":[{\"id\":\"1264\"},{\"id\":\"1268\"},{\"id\":\"1299\"}],\"left\":[{\"id\":\"1265\"}],\"renderers\":[{\"id\":\"1287\"},{\"id\":\"1305\"},{\"id\":\"1324\"},{\"id\":\"1345\"},{\"id\":\"1368\"},{\"id\":\"1393\"},{\"id\":\"1420\"}],\"title\":{\"id\":\"1251\"},\"toolbar\":{\"id\":\"1276\"},\"x_range\":{\"id\":\"1253\"},\"x_scale\":{\"id\":\"1257\"},\"y_range\":{\"id\":\"1255\"},\"y_scale\":{\"id\":\"1259\"}},\"id\":\"1250\",\"subtype\":\"Figure\",\"type\":\"Plot\"},{\"attributes\":{\"data\":{\"x\":[1,1.1,10,20],\"y\":[4976.0,4976.0,4976.0,4976.0]},\"selected\":{\"id\":\"1386\"},\"selection_policy\":{\"id\":\"1385\"}},\"id\":\"1364\",\"type\":\"ColumnDataSource\"},{\"attributes\":{\"source\":{\"id\":\"1301\"}},\"id\":\"1306\",\"type\":\"CDSView\"},{\"attributes\":{\"data\":{\"x\":[1,1.1,10,20],\"y\":[4975.0,4975.0,4975.0,4975.0]},\"selected\":{\"id\":\"1442\"},\"selection_policy\":{\"id\":\"1441\"}},\"id\":\"1416\",\"type\":\"ColumnDataSource\"},{\"attributes\":{},\"id\":\"1360\",\"type\":\"UnionRenderers\"},{\"attributes\":{},\"id\":\"1361\",\"type\":\"Selection\"},{\"attributes\":{},\"id\":\"1338\",\"type\":\"Selection\"},{\"attributes\":{\"coordinates\":null,\"data_source\":{\"id\":\"1320\"},\"glyph\":{\"id\":\"1321\"},\"group\":null,\"hover_glyph\":null,\"muted_glyph\":{\"id\":\"1323\"},\"nonselection_glyph\":{\"id\":\"1322\"},\"view\":{\"id\":\"1325\"}},\"id\":\"1324\",\"type\":\"GlyphRenderer\"},{\"attributes\":{\"coordinates\":null,\"data_source\":{\"id\":\"1364\"},\"glyph\":{\"id\":\"1365\"},\"group\":null,\"hover_glyph\":null,\"muted_glyph\":{\"id\":\"1367\"},\"nonselection_glyph\":{\"id\":\"1366\"},\"view\":{\"id\":\"1369\"}},\"id\":\"1368\",\"type\":\"GlyphRenderer\"},{\"attributes\":{\"label\":{\"value\":\"pH 8.0\"},\"renderers\":[{\"id\":\"1345\"}]},\"id\":\"1363\",\"type\":\"LegendItem\"},{\"attributes\":{},\"id\":\"1316\",\"type\":\"UnionRenderers\"},{\"attributes\":{\"label\":{\"value\":\"pH 11.0\"},\"renderers\":[{\"id\":\"1287\"}]},\"id\":\"1300\",\"type\":\"LegendItem\"},{\"attributes\":{\"label\":{\"value\":\"pH 10.0\"},\"renderers\":[{\"id\":\"1305\"}]},\"id\":\"1319\",\"type\":\"LegendItem\"},{\"attributes\":{\"coordinates\":null,\"data_source\":{\"id\":\"1301\"},\"glyph\":{\"id\":\"1302\"},\"group\":null,\"hover_glyph\":null,\"muted_glyph\":{\"id\":\"1304\"},\"nonselection_glyph\":{\"id\":\"1303\"},\"view\":{\"id\":\"1306\"}},\"id\":\"1305\",\"type\":\"GlyphRenderer\"},{\"attributes\":{\"line_alpha\":0.2,\"line_color\":\"#440154\",\"line_width\":2,\"x\":{\"field\":\"x\"},\"y\":{\"field\":\"y\"}},\"id\":\"1286\",\"type\":\"Line\"},{\"attributes\":{\"line_alpha\":0.1,\"line_color\":\"#443982\",\"line_width\":2,\"x\":{\"field\":\"x\"},\"y\":{\"field\":\"y\"}},\"id\":\"1303\",\"type\":\"Line\"},{\"attributes\":{},\"id\":\"1317\",\"type\":\"Selection\"},{\"attributes\":{\"line_alpha\":0.2,\"line_color\":\"#443982\",\"line_width\":2,\"x\":{\"field\":\"x\"},\"y\":{\"field\":\"y\"}},\"id\":\"1304\",\"type\":\"Line\"},{\"attributes\":{},\"id\":\"1386\",\"type\":\"Selection\"},{\"attributes\":{\"source\":{\"id\":\"1341\"}},\"id\":\"1346\",\"type\":\"CDSView\"},{\"attributes\":{},\"id\":\"1412\",\"type\":\"UnionRenderers\"},{\"attributes\":{\"data\":{\"x\":[1,1.1,10,20],\"y\":[4976.0,4976.0,4976.0,4976.0]},\"selected\":{\"id\":\"1413\"},\"selection_policy\":{\"id\":\"1412\"}},\"id\":\"1389\",\"type\":\"ColumnDataSource\"},{\"attributes\":{},\"id\":\"1413\",\"type\":\"Selection\"},{\"attributes\":{\"line_alpha\":0.1,\"line_color\":\"#440154\",\"line_width\":2,\"x\":{\"field\":\"x\"},\"y\":{\"field\":\"y\"}},\"id\":\"1285\",\"type\":\"Line\"},{\"attributes\":{\"data\":{\"x\":[1,1.1,10,20],\"y\":[4976.0,4976.0,4976.0,4976.0]},\"selected\":{\"id\":\"1361\"},\"selection_policy\":{\"id\":\"1360\"}},\"id\":\"1341\",\"type\":\"ColumnDataSource\"},{\"attributes\":{\"line_color\":\"#8DD644\",\"line_width\":2,\"x\":{\"field\":\"x\"},\"y\":{\"field\":\"y\"}},\"id\":\"1390\",\"type\":\"Line\"},{\"attributes\":{\"coordinates\":null,\"data_source\":{\"id\":\"1283\"},\"glyph\":{\"id\":\"1284\"},\"group\":null,\"hover_glyph\":null,\"muted_glyph\":{\"id\":\"1286\"},\"nonselection_glyph\":{\"id\":\"1285\"},\"view\":{\"id\":\"1288\"}},\"id\":\"1287\",\"type\":\"GlyphRenderer\"},{\"attributes\":{\"line_color\":\"#35B778\",\"line_width\":2,\"x\":{\"field\":\"x\"},\"y\":{\"field\":\"y\"}},\"id\":\"1365\",\"type\":\"Line\"},{\"attributes\":{\"line_alpha\":0.1,\"line_color\":\"#208F8C\",\"line_width\":2,\"x\":{\"field\":\"x\"},\"y\":{\"field\":\"y\"}},\"id\":\"1343\",\"type\":\"Line\"},{\"attributes\":{\"line_color\":\"#443982\",\"line_width\":2,\"x\":{\"field\":\"x\"},\"y\":{\"field\":\"y\"}},\"id\":\"1302\",\"type\":\"Line\"},{\"attributes\":{\"line_alpha\":0.2,\"line_color\":\"#8DD644\",\"line_width\":2,\"x\":{\"field\":\"x\"},\"y\":{\"field\":\"y\"}},\"id\":\"1392\",\"type\":\"Line\"},{\"attributes\":{\"source\":{\"id\":\"1283\"}},\"id\":\"1288\",\"type\":\"CDSView\"},{\"attributes\":{\"source\":{\"id\":\"1364\"}},\"id\":\"1369\",\"type\":\"CDSView\"},{\"attributes\":{\"source\":{\"id\":\"1320\"}},\"id\":\"1325\",\"type\":\"CDSView\"},{\"attributes\":{\"line_alpha\":0.1,\"line_color\":\"#8DD644\",\"line_width\":2,\"x\":{\"field\":\"x\"},\"y\":{\"field\":\"y\"}},\"id\":\"1391\",\"type\":\"Line\"},{\"attributes\":{\"line_alpha\":0.1,\"line_color\":\"#FDE724\",\"line_width\":2,\"x\":{\"field\":\"x\"},\"y\":{\"field\":\"y\"}},\"id\":\"1418\",\"type\":\"Line\"},{\"attributes\":{},\"id\":\"1385\",\"type\":\"UnionRenderers\"},{\"attributes\":{\"line_color\":\"#208F8C\",\"line_width\":2,\"x\":{\"field\":\"x\"},\"y\":{\"field\":\"y\"}},\"id\":\"1342\",\"type\":\"Line\"},{\"attributes\":{\"line_alpha\":0.2,\"line_color\":\"#35B778\",\"line_width\":2,\"x\":{\"field\":\"x\"},\"y\":{\"field\":\"y\"}},\"id\":\"1367\",\"type\":\"Line\"},{\"attributes\":{\"label\":{\"value\":\"pH 7.0\"},\"renderers\":[{\"id\":\"1368\"}]},\"id\":\"1388\",\"type\":\"LegendItem\"},{\"attributes\":{},\"id\":\"1337\",\"type\":\"UnionRenderers\"},{\"attributes\":{\"line_alpha\":0.2,\"line_color\":\"#30678D\",\"line_width\":2,\"x\":{\"field\":\"x\"},\"y\":{\"field\":\"y\"}},\"id\":\"1323\",\"type\":\"Line\"},{\"attributes\":{\"label\":{\"value\":\"pH 9.0\"},\"renderers\":[{\"id\":\"1324\"}]},\"id\":\"1340\",\"type\":\"LegendItem\"},{\"attributes\":{\"line_alpha\":0.2,\"line_color\":\"#208F8C\",\"line_width\":2,\"x\":{\"field\":\"x\"},\"y\":{\"field\":\"y\"}},\"id\":\"1344\",\"type\":\"Line\"},{\"attributes\":{},\"id\":\"1272\",\"type\":\"SaveTool\"},{\"attributes\":{},\"id\":\"1292\",\"type\":\"AllLabels\"},{\"attributes\":{\"data\":{\"x\":[1,1.1,10,20],\"y\":[4976.0,4976.0,4976.0,4976.0]},\"selected\":{\"id\":\"1338\"},\"selection_policy\":{\"id\":\"1337\"}},\"id\":\"1320\",\"type\":\"ColumnDataSource\"},{\"attributes\":{\"label\":{\"value\":\"pH 5.0\"},\"renderers\":[{\"id\":\"1420\"}]},\"id\":\"1444\",\"type\":\"LegendItem\"},{\"attributes\":{\"coordinates\":null,\"data_source\":{\"id\":\"1341\"},\"glyph\":{\"id\":\"1342\"},\"group\":null,\"hover_glyph\":null,\"muted_glyph\":{\"id\":\"1344\"},\"nonselection_glyph\":{\"id\":\"1343\"},\"view\":{\"id\":\"1346\"}},\"id\":\"1345\",\"type\":\"GlyphRenderer\"},{\"attributes\":{\"coordinates\":null,\"data_source\":{\"id\":\"1416\"},\"glyph\":{\"id\":\"1417\"},\"group\":null,\"hover_glyph\":null,\"muted_glyph\":{\"id\":\"1419\"},\"nonselection_glyph\":{\"id\":\"1418\"},\"view\":{\"id\":\"1421\"}},\"id\":\"1420\",\"type\":\"GlyphRenderer\"},{\"attributes\":{},\"id\":\"1273\",\"type\":\"ResetTool\"},{\"attributes\":{\"line_alpha\":0.1,\"line_color\":\"#30678D\",\"line_width\":2,\"x\":{\"field\":\"x\"},\"y\":{\"field\":\"y\"}},\"id\":\"1322\",\"type\":\"Line\"},{\"attributes\":{},\"id\":\"1442\",\"type\":\"Selection\"},{\"attributes\":{},\"id\":\"1266\",\"type\":\"BasicTicker\"},{\"attributes\":{\"label\":{\"value\":\"pH 6.0\"},\"renderers\":[{\"id\":\"1393\"}]},\"id\":\"1415\",\"type\":\"LegendItem\"},{\"attributes\":{\"coordinates\":null,\"data_source\":{\"id\":\"1389\"},\"glyph\":{\"id\":\"1390\"},\"group\":null,\"hover_glyph\":null,\"muted_glyph\":{\"id\":\"1392\"},\"nonselection_glyph\":{\"id\":\"1391\"},\"view\":{\"id\":\"1394\"}},\"id\":\"1393\",\"type\":\"GlyphRenderer\"},{\"attributes\":{\"axis_label\":\"Product\",\"coordinates\":null,\"formatter\":{\"id\":\"1291\"},\"group\":null,\"major_label_policy\":{\"id\":\"1292\"},\"ticker\":{\"id\":\"1266\"}},\"id\":\"1265\",\"type\":\"LinearAxis\"},{\"attributes\":{\"tools\":[{\"id\":\"1269\"},{\"id\":\"1270\"},{\"id\":\"1271\"},{\"id\":\"1272\"},{\"id\":\"1273\"},{\"id\":\"1274\"}]},\"id\":\"1276\",\"type\":\"Toolbar\"},{\"attributes\":{\"axis\":{\"id\":\"1265\"},\"coordinates\":null,\"dimension\":1,\"group\":null,\"ticker\":null},\"id\":\"1268\",\"type\":\"Grid\"},{\"attributes\":{\"source\":{\"id\":\"1416\"}},\"id\":\"1421\",\"type\":\"CDSView\"},{\"attributes\":{\"axis_label\":\"Donor equivs\",\"coordinates\":null,\"formatter\":{\"id\":\"1294\"},\"group\":null,\"major_label_policy\":{\"id\":\"1295\"},\"ticker\":{\"id\":\"1262\"}},\"id\":\"1261\",\"type\":\"LinearAxis\"},{\"attributes\":{},\"id\":\"1257\",\"type\":\"LinearScale\"},{\"attributes\":{\"axis\":{\"id\":\"1261\"},\"coordinates\":null,\"group\":null,\"ticker\":null},\"id\":\"1264\",\"type\":\"Grid\"},{\"attributes\":{},\"id\":\"1270\",\"type\":\"WheelZoomTool\"},{\"attributes\":{},\"id\":\"1262\",\"type\":\"BasicTicker\"},{\"attributes\":{},\"id\":\"1291\",\"type\":\"BasicTickFormatter\"},{\"attributes\":{\"coordinates\":null,\"group\":null,\"text\":\"pH & donor vs conversion\"},\"id\":\"1251\",\"type\":\"Title\"},{\"attributes\":{},\"id\":\"1259\",\"type\":\"LinearScale\"},{\"attributes\":{\"source\":{\"id\":\"1389\"}},\"id\":\"1394\",\"type\":\"CDSView\"},{\"attributes\":{},\"id\":\"1269\",\"type\":\"PanTool\"},{\"attributes\":{},\"id\":\"1255\",\"type\":\"DataRange1d\"},{\"attributes\":{},\"id\":\"1295\",\"type\":\"AllLabels\"},{\"attributes\":{},\"id\":\"1253\",\"type\":\"DataRange1d\"},{\"attributes\":{\"coordinates\":null,\"group\":null,\"items\":[{\"id\":\"1300\"},{\"id\":\"1319\"},{\"id\":\"1340\"},{\"id\":\"1363\"},{\"id\":\"1388\"},{\"id\":\"1415\"},{\"id\":\"1444\"}]},\"id\":\"1299\",\"type\":\"Legend\"},{\"attributes\":{\"line_color\":\"#440154\",\"line_width\":2,\"x\":{\"field\":\"x\"},\"y\":{\"field\":\"y\"}},\"id\":\"1284\",\"type\":\"Line\"},{\"attributes\":{\"line_alpha\":0.1,\"line_color\":\"#35B778\",\"line_width\":2,\"x\":{\"field\":\"x\"},\"y\":{\"field\":\"y\"}},\"id\":\"1366\",\"type\":\"Line\"},{\"attributes\":{},\"id\":\"1441\",\"type\":\"UnionRenderers\"},{\"attributes\":{\"overlay\":{\"id\":\"1275\"}},\"id\":\"1271\",\"type\":\"BoxZoomTool\"},{\"attributes\":{\"line_alpha\":0.2,\"line_color\":\"#FDE724\",\"line_width\":2,\"x\":{\"field\":\"x\"},\"y\":{\"field\":\"y\"}},\"id\":\"1419\",\"type\":\"Line\"},{\"attributes\":{},\"id\":\"1274\",\"type\":\"HelpTool\"},{\"attributes\":{\"bottom_units\":\"screen\",\"coordinates\":null,\"fill_alpha\":0.5,\"fill_color\":\"lightgrey\",\"group\":null,\"left_units\":\"screen\",\"level\":\"overlay\",\"line_alpha\":1.0,\"line_color\":\"black\",\"line_dash\":[4,4],\"line_width\":2,\"right_units\":\"screen\",\"syncable\":false,\"top_units\":\"screen\"},\"id\":\"1275\",\"type\":\"BoxAnnotation\"},{\"attributes\":{\"line_color\":\"#FDE724\",\"line_width\":2,\"x\":{\"field\":\"x\"},\"y\":{\"field\":\"y\"}},\"id\":\"1417\",\"type\":\"Line\"},{\"attributes\":{},\"id\":\"1294\",\"type\":\"BasicTickFormatter\"},{\"attributes\":{},\"id\":\"1297\",\"type\":\"Selection\"},{\"attributes\":{},\"id\":\"1296\",\"type\":\"UnionRenderers\"},{\"attributes\":{\"data\":{\"x\":[1,1.1,10,20],\"y\":[4976.0,4976.0,4976.0,4976.0]},\"selected\":{\"id\":\"1317\"},\"selection_policy\":{\"id\":\"1316\"}},\"id\":\"1301\",\"type\":\"ColumnDataSource\"},{\"attributes\":{\"data\":{\"x\":[1,1.1,10,20],\"y\":[4977.0,4977.0,4977.0,4977.0]},\"selected\":{\"id\":\"1297\"},\"selection_policy\":{\"id\":\"1296\"}},\"id\":\"1283\",\"type\":\"ColumnDataSource\"},{\"attributes\":{\"line_color\":\"#30678D\",\"line_width\":2,\"x\":{\"field\":\"x\"},\"y\":{\"field\":\"y\"}},\"id\":\"1321\",\"type\":\"Line\"}],\"root_ids\":[\"1250\"]},\"title\":\"Bokeh Application\",\"version\":\"2.4.2\"}};\n",
       "  const render_items = [{\"docid\":\"278dfd2e-3137-40c6-95ea-3100ce85372f\",\"root_ids\":[\"1250\"],\"roots\":{\"1250\":\"e4532e42-d514-4e3c-9706-4cc877cf48fe\"}}];\n",
       "  root.Bokeh.embed.embed_items_notebook(docs_json, render_items);\n",
       "\n",
       "  }\n",
       "  if (root.Bokeh !== undefined) {\n",
       "    embed_document(root);\n",
       "  } else {\n",
       "    let attempts = 0;\n",
       "    const timer = setInterval(function(root) {\n",
       "      if (root.Bokeh !== undefined) {\n",
       "        clearInterval(timer);\n",
       "        embed_document(root);\n",
       "      } else {\n",
       "        attempts++;\n",
       "        if (attempts > 100) {\n",
       "          clearInterval(timer);\n",
       "          console.log(\"Bokeh: ERROR: Unable to run BokehJS code because BokehJS library is missing\");\n",
       "        }\n",
       "      }\n",
       "    }, 10, root)\n",
       "  }\n",
       "})(window);"
      ],
      "application/vnd.bokehjs_exec.v0+json": ""
     },
     "metadata": {
      "application/vnd.bokehjs_exec.v0+json": {
       "id": "1250"
      }
     },
     "output_type": "display_data"
    }
   ],
   "source": [
    "pH_range = np.linspace(11, 5, 7)\n",
    "amine_range = [1, 1.1, 10, 20]\n",
    "p = figure(title=\"pH & donor vs conversion\", x_axis_label='Donor equivs', y_axis_label='Product')\n",
    "\n",
    "from bokeh.palettes import Viridis7 as palette\n",
    "colors = itertools.cycle(palette) \n",
    "\n",
    "\n",
    "for pH in pH_range:\n",
    "    results = []\n",
    "    for amine in amine_range:\n",
    "        model.species['nh2'] = amine*10000\n",
    "        model.parameters['aldolase_keq'] = calc_keq(aldolase, pH=pH)[0]\n",
    "        model.parameters['ring_close_keq'] = calc_keq(ring_closing, pH=pH)[0]\n",
    "        model.setup_model()\n",
    "        model.run_model()\n",
    "        df = model.results_dataframe()\n",
    "        product = round(df['p'].iloc[-1],0) + round(df['p_closed'].iloc[-1],0)\n",
    "        results.append(product)\n",
    "        \n",
    "    p.line(amine_range, results, legend_label=f\"pH {pH}\", color=next(colors), line_width=2)\n",
    "\n",
    "show(p)"
   ]
  },
  {
   "cell_type": "code",
   "execution_count": null,
   "id": "3590b7c2-4e5e-4540-958a-4918a484f84c",
   "metadata": {},
   "outputs": [],
   "source": []
  },
  {
   "cell_type": "code",
   "execution_count": null,
   "id": "d29cfc1e-35ea-437b-8134-f32b23addcf3",
   "metadata": {},
   "outputs": [],
   "source": []
  }
 ],
 "metadata": {
  "kernelspec": {
   "display_name": "Python 3 (ipykernel)",
   "language": "python",
   "name": "python3"
  },
  "language_info": {
   "codemirror_mode": {
    "name": "ipython",
    "version": 3
   },
   "file_extension": ".py",
   "mimetype": "text/x-python",
   "name": "python",
   "nbconvert_exporter": "python",
   "pygments_lexer": "ipython3",
   "version": "3.9.7"
  }
 },
 "nbformat": 4,
 "nbformat_minor": 5
}
